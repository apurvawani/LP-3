{
  "nbformat": 4,
  "nbformat_minor": 0,
  "metadata": {
    "colab": {
      "name": "LP-3 B1.ipynb",
      "provenance": []
    },
    "kernelspec": {
      "name": "python3",
      "display_name": "Python 3"
    }
  },
  "cells": [
    {
      "cell_type": "markdown",
      "metadata": {
        "id": "TPwHlQPxxeDp"
      },
      "source": [
        "**Implementation of S-DES**"
      ]
    },
    {
      "cell_type": "code",
      "metadata": {
        "id": "BVNDVOh-GpKr"
      },
      "source": [
        "p10 = [3, 5, 2, 7, 4, 10, 1, 9, 8, 6]\n",
        "p8 = [6, 3, 7, 4, 8, 5, 10, 9]\n",
        "\n",
        "ip = [2, 6, 3, 1, 4, 8, 5, 7]\n",
        "inv_ip = [4, 1, 3, 5, 7, 2, 8, 6]\n",
        "\n",
        "\n",
        "ep = [4, 1, 2, 3, 2, 3, 4, 1]\n",
        "\n",
        "\n",
        "p4 = [2, 4, 3, 1]\n",
        "\n",
        "\n",
        "s0 = [[\"01\", \"00\", \"11\", \"10\"],\n",
        "     [\"11\", \"10\", \"01\", \"00\"],\n",
        "     [\"00\", \"10\", \"01\", \"11\"],\n",
        "     [\"11\", \"01\", \"11\", \"10\"]]\n",
        "     \n",
        "s1 = [[\"00\", \"01\", \"10\", \"11\"],\n",
        "     [\"10\", \"00\", \"01\", \"11\"],\n",
        "     [\"11\", \"00\", \"01\", \"00\"],\n",
        "     [\"10\", \"01\", \"00\", \"11\"]]\n",
        "\n",
        "key = '1000110101'"
      ],
      "execution_count": null,
      "outputs": []
    },
    {
      "cell_type": "code",
      "metadata": {
        "id": "8nKCPGh7G3X6"
      },
      "source": [
        "def create_8_bit_key(key10):\n",
        "    new_key = ''\n",
        "    for i in p8:\n",
        "        new_key += key[i-1]\n",
        "    return new_key"
      ],
      "execution_count": null,
      "outputs": []
    },
    {
      "cell_type": "code",
      "metadata": {
        "id": "s21xOtJIHFNg"
      },
      "source": [
        "def generate_keys(key):\n",
        "    keyp = ''\n",
        "    for i in p10:\n",
        "        keyp += key[i-1]\n",
        "    \n",
        "    left_half = keyp[1:5] + keyp[0]     #left shift\n",
        "    right_half = keyp[6:] + keyp[5]\n",
        "\n",
        "    k1 = create_8_bit_key(left_half+right_half)\n",
        "    \n",
        "    left_half = keyp[3:5] + keyp[0:3]\n",
        "    right_half = keyp[8:] + keyp[5:8]\n",
        "    \n",
        "    k2 = create_8_bit_key(left_half+right_half)\n",
        "    \n",
        "    return k1,k2"
      ],
      "execution_count": null,
      "outputs": []
    },
    {
      "cell_type": "code",
      "metadata": {
        "colab": {
          "base_uri": "https://localhost:8080/"
        },
        "id": "XmuVAvyOG-zz",
        "outputId": "e385ddff-f134-4d6e-dca6-c3c39db31963"
      },
      "source": [
        "generate_keys(key)"
      ],
      "execution_count": null,
      "outputs": [
        {
          "output_type": "execute_result",
          "data": {
            "text/plain": [
              "('10001110', '10001110')"
            ]
          },
          "metadata": {
            "tags": []
          },
          "execution_count": 4
        }
      ]
    },
    {
      "cell_type": "code",
      "metadata": {
        "id": "bJNbG7osHJPa"
      },
      "source": [
        "def generate_ip(key8):\n",
        "    new_key = ''\n",
        "    for i in ip:\n",
        "        new_key += key8[i-1]\n",
        "    return new_key"
      ],
      "execution_count": null,
      "outputs": []
    },
    {
      "cell_type": "code",
      "metadata": {
        "id": "TF-roQtPHLh0"
      },
      "source": [
        "def generate_inv_ip(key8):\n",
        "    new_key = ''\n",
        "    for i in inv_ip:\n",
        "        new_key += key8[i-1]\n",
        "    return new_key"
      ],
      "execution_count": null,
      "outputs": []
    },
    {
      "cell_type": "code",
      "metadata": {
        "id": "0BzKPgC6HOYo"
      },
      "source": [
        "def swap(data):\n",
        "    return data[4:] + data[:4]"
      ],
      "execution_count": null,
      "outputs": []
    },
    {
      "cell_type": "code",
      "metadata": {
        "id": "e4G07bCaHQjv"
      },
      "source": [
        "def expand_and_permutate(key4):\n",
        "    new_key = ''\n",
        "    for i in ep:\n",
        "        new_key += key4[i-1]\n",
        "    return new_key"
      ],
      "execution_count": null,
      "outputs": []
    },
    {
      "cell_type": "code",
      "metadata": {
        "id": "DIjP6-dvHS-p"
      },
      "source": [
        "def perform_xor(data,k):\n",
        "    size = len(data)\n",
        "    data = int(data, 2)\n",
        "    k = int(k, 2)\n",
        "    res = data ^ k\n",
        "    return format(res, 'b').zfill(size)"
      ],
      "execution_count": null,
      "outputs": []
    },
    {
      "cell_type": "code",
      "metadata": {
        "id": "zhdFrh6GHVV-"
      },
      "source": [
        "def get_sbox(data, sbox):\n",
        "    row = int(data[0] + data[3], 2)   #first and fourth\n",
        "    col = int(data[1:3], 2)           #second and third\n",
        "    return sbox[row][col]"
      ],
      "execution_count": null,
      "outputs": []
    },
    {
      "cell_type": "code",
      "metadata": {
        "id": "GfxwuVWKHXze"
      },
      "source": [
        "def permutate_4(key4):\n",
        "    new_key = ''\n",
        "    for i in p4:\n",
        "        new_key += key4[i-1]\n",
        "    return new_key"
      ],
      "execution_count": null,
      "outputs": []
    },
    {
      "cell_type": "code",
      "metadata": {
        "id": "x0l3XKA6HaVP"
      },
      "source": [
        "def fk(key8, k):\n",
        "    left_key = key8[:4]\n",
        "    right_key = key8[4:]\n",
        "    \n",
        "    right_key = expand_and_permutate(right_key)\n",
        "    right_key = perform_xor(right_key, k)    \n",
        "    right_key = get_sbox(right_key[:4], s0) + get_sbox(right_key[4:], s1)\n",
        "    right_key = permutate_4(right_key)    \n",
        "    left_key = perform_xor(left_key, right_key)\n",
        "\n",
        "    return left_key + key8[4:]"
      ],
      "execution_count": null,
      "outputs": []
    },
    {
      "cell_type": "code",
      "metadata": {
        "id": "uX21qiTuHc1M"
      },
      "source": [
        "#perform = 1 : encrypt\n",
        "#perform = 0 : decrypt\n",
        "\n",
        "def encrypt_decrypt(data , perform):\n",
        "    data = generate_ip(data)\n",
        "    k1, k2 = generate_keys(key)\n",
        "\n",
        "    if (perform == 1):\n",
        "        #round 1\n",
        "        data = fk(data, k1)\n",
        "        \n",
        "        #swap left and right part\n",
        "        data = swap(data)\n",
        "        \n",
        "        #round 2\n",
        "        data = fk(data, k2)\n",
        "        \n",
        "        data = generate_inv_ip(data)\n",
        "\n",
        "    else :\n",
        "        #round 1    \n",
        "        data = fk(data, k2)\n",
        "    \n",
        "        #swap left and right part\n",
        "        data = swap(data)\n",
        "    \n",
        "        #round 2\n",
        "        data = fk(data, k1)\n",
        "    \n",
        "        data = generate_inv_ip(data) \n",
        "    \n",
        "    return data"
      ],
      "execution_count": null,
      "outputs": []
    },
    {
      "cell_type": "code",
      "metadata": {
        "colab": {
          "base_uri": "https://localhost:8080/"
        },
        "id": "ASEQZl1oHhoU",
        "outputId": "822c4278-88fa-44c0-c07e-1e457160c647"
      },
      "source": [
        "data = input(\"Enter data to encrypt : \")\n",
        "encrypted_data = \"\"\n",
        "for i in data:\n",
        "    d = ord(i)    #unicode to integer\n",
        "    d = \"{0:08b}\".format(d)\n",
        "    encrypted_data += encrypt_decrypt(d , 1)\n",
        "print(\"Encrypted data(cipher text) : \", encrypted_data)"
      ],
      "execution_count": null,
      "outputs": [
        {
          "output_type": "stream",
          "text": [
            "Enter data to encrypt : pict2021\n",
            "Encrypted data(cipher text) :  1110010101101001111100000100000010111010101101011011101011010011\n"
          ],
          "name": "stdout"
        }
      ]
    },
    {
      "cell_type": "code",
      "metadata": {
        "colab": {
          "base_uri": "https://localhost:8080/"
        },
        "id": "60LQ-ZvBHj4S",
        "outputId": "f59e4bb4-e665-4426-a78a-931397693a58"
      },
      "source": [
        "original_data = \"\"\n",
        "for i in range(int(len(encrypted_data)/8)):\n",
        "    original_data += chr(int(encrypt_decrypt(encrypted_data[int(i*8):int((i+1)*8)] , 0), 2))\n",
        "print(\"Decrypted Data(plain text) : \", original_data)"
      ],
      "execution_count": null,
      "outputs": [
        {
          "output_type": "stream",
          "text": [
            "Decrypted Data(plain text) :  pict2021\n"
          ],
          "name": "stdout"
        }
      ]
    }
  ]
}