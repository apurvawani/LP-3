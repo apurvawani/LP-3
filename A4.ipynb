{
  "nbformat": 4,
  "nbformat_minor": 0,
  "metadata": {
    "colab": {
      "name": "LP-3 A4.ipynb",
      "provenance": []
    },
    "kernelspec": {
      "name": "python3",
      "display_name": "Python 3"
    },
    "language_info": {
      "name": "python"
    }
  },
  "cells": [
    {
      "cell_type": "markdown",
      "metadata": {
        "id": "GadAkXkf2BUW"
      },
      "source": [
        "**Assignment on K-Means Clustering**\n",
        "\n",
        "We have given a collection of 8 points. P1=[0.1,0.6] ,P2=[0.15,0.71], P3=[0.08,0.9] P4=[0.16, 0.85], P5=[0.2,0.3], P6=[0.25,0.5], P7=[0.24,0.1], P8=[0.3,0.2]. \n",
        "\n",
        "Perform the k-mean clustering with initial centroids as m1=P1 = Cluster#1=C1 and m2=P8=cluster#2=C2. Answer the following \n",
        "\n",
        "1] Which cluster does P6 belong to? \n",
        "\n",
        "2] What is the population of cluster around m2? \n",
        "\n",
        "3] What is updated value of m1 and m2?"
      ]
    },
    {
      "cell_type": "code",
      "metadata": {
        "id": "6kp-m6-N1qlV"
      },
      "source": [
        "import numpy as np\n",
        "import matplotlib.pyplot as plt\n",
        "import math\n",
        "%matplotlib inline"
      ],
      "execution_count": null,
      "outputs": []
    },
    {
      "cell_type": "code",
      "metadata": {
        "id": "xznJud0O2m-c"
      },
      "source": [
        "x = np.array([0.1,0.15,0.08,0.16,0.2,0.25,0.24,0.3])\n",
        "y = np.array([0.6,0.71,0.9,0.85,0.3,0.5,0.1,0.2])"
      ],
      "execution_count": null,
      "outputs": []
    },
    {
      "cell_type": "code",
      "metadata": {
        "colab": {
          "base_uri": "https://localhost:8080/",
          "height": 265
        },
        "id": "LWMYvbsh2xh4",
        "outputId": "8b36e882-6df8-454c-a130-f507c4cca5bc"
      },
      "source": [
        "#data points mapped on XY axis\n",
        "plt.plot(x,y,\"o\")\n",
        "plt.show()"
      ],
      "execution_count": null,
      "outputs": [
        {
          "output_type": "display_data",
          "data": {
            "image/png": "[encoded data removed]",
            "text/plain": [
              "<Figure size 432x288 with 1 Axes>"
            ]
          },
          "metadata": {
            "tags": [],
            "needs_background": "light"
          }
        }
      ]
    },
    {
      "cell_type": "code",
      "metadata": {
        "id": "J2IgMZZN25ZW"
      },
      "source": [
        "\n",
        "def eucledian_distance(x1,y1,x2,y2):\n",
        "    return math.sqrt((x1-x2)**2+(y1-y2)**2)\n",
        "\n",
        "def manhattan_distance(x1,y1,x2,y2):\n",
        "    return math.fabs(x1-x2)+math.fabs(y1-y2)"
      ],
      "execution_count": null,
      "outputs": []
    },
    {
      "cell_type": "code",
      "metadata": {
        "id": "iZOfukMa29bJ"
      },
      "source": [
        "def returnCluster(m1,m2,x_co,y_co):\n",
        "    #if we use manhattan_distance then clusters are classified more correctly..\n",
        "    distance1=manhattan_distance(m1[0],m1[1],x_co,y_co)\n",
        "    \n",
        "    distance2=manhattan_distance(m2[0],m2[1],x_co,y_co)\n",
        "    \n",
        "    if(distance1<distance2):\n",
        "        return 1;\n",
        "    else:\n",
        "        return 2;"
      ],
      "execution_count": null,
      "outputs": []
    },
    {
      "cell_type": "code",
      "metadata": {
        "colab": {
          "base_uri": "https://localhost:8080/"
        },
        "id": "ogQAavTT3C1o",
        "outputId": "dd86847f-5fe2-4372-ac38-e126cd81523a"
      },
      "source": [
        "\n",
        "#initial centroids for cluster1 nd cluster 2\n",
        "m1=[0.1,0.6]\n",
        "m2=[0.3,0.2]\n",
        "#difference and iteration is for controlling iteration\n",
        "difference = math.inf\n",
        "threshold=0.02\n",
        "iteration=0;\n",
        "while difference>threshold: #use any one condition #iteration one is easy\n",
        "    print(\"Iteration \",iteration, \" : m1=\",m1, \" m2=\",m2)\n",
        "    cluster1=[];\n",
        "    cluster2=[];\n",
        "    \n",
        "    #step1 assign all points to nearest cluster\n",
        "    for i in range(0,np.size(x)):\n",
        "        clusterNumber=returnCluster(m1,m2,x[i],y[i])\n",
        "        point=[x[i],y[i]]\n",
        "        if clusterNumber==1:\n",
        "            cluster1.append(point);\n",
        "        else:\n",
        "            cluster2.append(point)\n",
        "        \n",
        "    print(\"Cluster 1\", cluster1,\"\\nCluster 2: \", cluster2)\n",
        "    \n",
        "    #step 2: Calculating new centriod for cluster1\n",
        "    m1_old=m1;\n",
        "    m1=[]\n",
        "    m1=np.mean(cluster1, axis=0) #axis=0 means columnwise \n",
        "    \n",
        "    #calculating centroid for cluster2\n",
        "    m2_old=m2;\n",
        "    m2=[];\n",
        "    m2=np.mean(cluster2,axis=0)\n",
        "    print(\"m1 = \",m1,\" m2=\",m2)\n",
        "    \n",
        "    #adjusting differences of adjustment between m1 nd m1_old\n",
        "    xAvg=0.0;\n",
        "    yAvg=0.0;\n",
        "    xAvg=math.fabs(m1[0]-m1_old[0])+math.fabs(m2[0]-m2_old[0])\n",
        "    xAvg=xAvg/2;\n",
        "    \n",
        "    yAvg=math.fabs(m1[1]-m1_old[1])+math.fabs(m2[1]-m2_old[1])\n",
        "    yAvg=yAvg/2;\n",
        "    \n",
        "    if(xAvg>yAvg):\n",
        "        difference=xAvg;\n",
        "    else:\n",
        "        difference=yAvg;\n",
        "        \n",
        "    print(\"Difference  : \", difference)\n",
        "    iteration+=1;\n",
        "    print(\"\")"
      ],
      "execution_count": null,
      "outputs": [
        {
          "output_type": "stream",
          "text": [
            "Iteration  0  : m1= [0.1, 0.6]  m2= [0.3, 0.2]\n",
            "Cluster 1 [[0.1, 0.6], [0.15, 0.71], [0.08, 0.9], [0.16, 0.85], [0.25, 0.5]] \n",
            "Cluster 2:  [[0.2, 0.3], [0.24, 0.1], [0.3, 0.2]]\n",
            "m1 =  [0.148 0.712]  m2= [0.24666667 0.2       ]\n",
            "Difference  :  0.05600000000000001\n",
            "\n",
            "Iteration  1  : m1= [0.148 0.712]  m2= [0.24666667 0.2       ]\n",
            "Cluster 1 [[0.1, 0.6], [0.15, 0.71], [0.08, 0.9], [0.16, 0.85]] \n",
            "Cluster 2:  [[0.2, 0.3], [0.25, 0.5], [0.24, 0.1], [0.3, 0.2]]\n",
            "m1 =  [0.1225 0.765 ]  m2= [0.2475 0.275 ]\n",
            "Difference  :  0.06400000000000002\n",
            "\n",
            "Iteration  2  : m1= [0.1225 0.765 ]  m2= [0.2475 0.275 ]\n",
            "Cluster 1 [[0.1, 0.6], [0.15, 0.71], [0.08, 0.9], [0.16, 0.85]] \n",
            "Cluster 2:  [[0.2, 0.3], [0.25, 0.5], [0.24, 0.1], [0.3, 0.2]]\n",
            "m1 =  [0.1225 0.765 ]  m2= [0.2475 0.275 ]\n",
            "Difference  :  0.0\n",
            "\n"
          ],
          "name": "stdout"
        }
      ]
    },
    {
      "cell_type": "code",
      "metadata": {
        "colab": {
          "base_uri": "https://localhost:8080/",
          "height": 336
        },
        "id": "1gd72K2p3JJO",
        "outputId": "f605ebf2-3454-49fd-f331-a09242f3301a"
      },
      "source": [
        "#final Output\n",
        "print(\"Cluster 1 centroid : m1 = \",m1)\n",
        "print(\"CLuster 1 points: \", cluster1)\n",
        "print(\"Cluster 2 centroid : m2 = \",m2)\n",
        "print(\"CLuster 2 points: \", cluster2)\n",
        "\n",
        "clust1=np.array(cluster1)\n",
        "clust2=np.array(cluster2)\n",
        "\n",
        "#cluster 1 points\n",
        "plt.plot(clust1[:,0],clust1[:,1],\"o\")\n",
        "\n",
        "#cluster2 points\n",
        "plt.plot(clust2[:,0], clust2[:,1],\"*\")\n",
        "\n",
        "#centroids\n",
        "plt.plot([m1[0],m2[0]],[m1[1],m2[1]],\"^\")\n",
        "plt.show()"
      ],
      "execution_count": null,
      "outputs": [
        {
          "output_type": "stream",
          "text": [
            "Cluster 1 centroid : m1 =  [0.1225 0.765 ]\n",
            "CLuster 1 points:  [[0.1, 0.6], [0.15, 0.71], [0.08, 0.9], [0.16, 0.85]]\n",
            "Cluster 2 centroid : m2 =  [0.2475 0.275 ]\n",
            "CLuster 2 points:  [[0.2, 0.3], [0.25, 0.5], [0.24, 0.1], [0.3, 0.2]]\n"
          ],
          "name": "stdout"
        },
        {
          "output_type": "display_data",
          "data": {
            "image/png": "[encoded data removed]",
            "text/plain": [
              "<Figure size 432x288 with 1 Axes>"
            ]
          },
          "metadata": {
            "tags": [],
            "needs_background": "light"
          }
        }
      ]
    }
  ]
}